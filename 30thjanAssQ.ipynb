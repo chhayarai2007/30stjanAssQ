{
 "cells": [
  {
   "cell_type": "markdown",
   "id": "9a64af2f-c01b-44c2-8fb2-638f0afc9268",
   "metadata": {},
   "source": [
    "1. Write a program to accept percentage from the user and display the grade according to the following \n"
   ]
  },
  {
   "cell_type": "code",
   "execution_count": 5,
   "id": "249aa6e0-12be-435b-aa17-4300cd529e7c",
   "metadata": {},
   "outputs": [
    {
     "name": "stdin",
     "output_type": "stream",
     "text": [
      "Enter marks 80\n"
     ]
    },
    {
     "name": "stdout",
     "output_type": "stream",
     "text": [
      "for marks 80.0 the grade is B\n"
     ]
    }
   ],
   "source": [
    "marks=float(input(\"Enter marks\"))\n",
    "if marks>=90:\n",
    "    grade='A'\n",
    "elif marks >=80:\n",
    "    grade='B'\n",
    "elif marks >=70:\n",
    "    grade='C'\n",
    "elif marks >=60:\n",
    "    grade='D'\n",
    "else:\n",
    "    grade=E\n",
    "print(\"for marks\",marks,\"the grade is\",grade)"
   ]
  },
  {
   "cell_type": "markdown",
   "id": "c965e2d6-e761-4fda-88af-d234e7e03f2d",
   "metadata": {},
   "source": [
    " Write a program to accept the cost price of a bike and display the road tax to be paid according to the \n",
    "following criteria: \n"
   ]
  },
  {
   "cell_type": "code",
   "execution_count": 14,
   "id": "cd6a9bc6-5e78-451a-8d4e-a456aeec40b0",
   "metadata": {},
   "outputs": [
    {
     "name": "stdin",
     "output_type": "stream",
     "text": [
      "Enter the cost price of bike 80000\n"
     ]
    },
    {
     "name": "stdout",
     "output_type": "stream",
     "text": [
      "for cost price 80000.0 the tax is 10 %\n"
     ]
    }
   ],
   "source": [
    "cost_price=float(input(\"Enter the cost price of bike\"))\n",
    "if cost_price>=100000:\n",
    "    tax=15\n",
    "elif cost_price >50000 <=100000:\n",
    "    tax=10\n",
    "elif cost_price <=50000:\n",
    "    tax=5\n",
    "else:\n",
    "    print(\"please enter value in range\")\n",
    "print(\"for cost price\",cost_price,\"the tax is\",tax,\"%\")"
   ]
  },
  {
   "cell_type": "markdown",
   "id": "720224ba-66fe-4ad4-b93e-736ec14733c5",
   "metadata": {},
   "source": [
    "3. Accept any city from the user and display monuments of that city. \n"
   ]
  },
  {
   "cell_type": "code",
   "execution_count": 20,
   "id": "05dc9901-8149-49ac-b892-a01e5e88e85d",
   "metadata": {},
   "outputs": [
    {
     "name": "stdin",
     "output_type": "stream",
     "text": [
      "enter the city: Delhi\n"
     ]
    },
    {
     "name": "stdout",
     "output_type": "stream",
     "text": [
      "for the city Delhi monument is RED FORT\n"
     ]
    }
   ],
   "source": [
    "city=str(input(\"enter the city:\"))\n",
    "if city==\"Delhi\":\n",
    "    mon=\"RED FORT\"\n",
    "elif city==\"Agra\":\n",
    "    mon=\"TAJ MAHAL\"\n",
    "elif city==\"jaipur\":\n",
    "    mon=\"jai mahal\"\n",
    "print(\"for the city\",city,\"monument is\",mon)"
   ]
  },
  {
   "cell_type": "markdown",
   "id": "9aa0189b-8706-43dd-a975-bdb3614e6ac2",
   "metadata": {},
   "source": [
    "5. Why and When to Use while Loop in Python give a detailed description with example \n"
   ]
  },
  {
   "cell_type": "markdown",
   "id": "9a6c0cfb-50b3-4987-b266-1ff3c0c3d5b5",
   "metadata": {},
   "source": [
    "ans:- a while loop is a conditional loop that will repeat the instruction within itself as long as condition remains true.\n",
    "\n",
    " while<logicalexpreesion>:\n",
    "        loop-body"
   ]
  },
  {
   "cell_type": "code",
   "execution_count": 21,
   "id": "7afd9da4-10e3-4bfa-8f03-9d1f4d488726",
   "metadata": {},
   "outputs": [
    {
     "name": "stdout",
     "output_type": "stream",
     "text": [
      "hello 5\n",
      "hello 2\n",
      "Loop over!!\n"
     ]
    }
   ],
   "source": [
    "a=5\n",
    "while a > 0:\n",
    "    print(\"hello\",a)\n",
    "    a=a-3\n",
    "print(\"Loop over!!\")"
   ]
  },
  {
   "cell_type": "markdown",
   "id": "a941f21c-571f-413c-8a3e-56db5ddbe5ef",
   "metadata": {},
   "source": [
    "6. Use nested while loop to print 3 different pattern. \n"
   ]
  },
  {
   "cell_type": "code",
   "execution_count": 22,
   "id": "96f2685e-e5c7-4339-a907-dcceebea072b",
   "metadata": {},
   "outputs": [
    {
     "name": "stdout",
     "output_type": "stream",
     "text": [
      "1\n",
      "13\n",
      "135\n",
      "1357\n"
     ]
    }
   ],
   "source": [
    "for a in range (3,10,2):\n",
    "    for b in range (1,a,2):\n",
    "        print(b,end='')\n",
    "    print()"
   ]
  },
  {
   "cell_type": "code",
   "execution_count": null,
   "id": "859282b1-d294-4dc7-8a40-54f626442a65",
   "metadata": {},
   "outputs": [],
   "source": [
    "n=5\n",
    "s=0\n",
    "for i in range (n,0,-1):\n",
    "    for j in range (1,s+1):\n",
    "        print(end='')\n",
    "    for j in range (1,i+1):\n",
    "        print(j,end='')\n",
    "    s+=2\n",
    "     "
   ]
  }
 ],
 "metadata": {
  "kernelspec": {
   "display_name": "Python 3 (ipykernel)",
   "language": "python",
   "name": "python3"
  },
  "language_info": {
   "codemirror_mode": {
    "name": "ipython",
    "version": 3
   },
   "file_extension": ".py",
   "mimetype": "text/x-python",
   "name": "python",
   "nbconvert_exporter": "python",
   "pygments_lexer": "ipython3",
   "version": "3.10.8"
  }
 },
 "nbformat": 4,
 "nbformat_minor": 5
}
